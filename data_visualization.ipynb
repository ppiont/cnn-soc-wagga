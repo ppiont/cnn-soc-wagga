{
  "nbformat": 4,
  "nbformat_minor": 0,
  "metadata": {
    "colab": {
      "name": "data_visualization.ipynb",
      "provenance": [],
      "authorship_tag": "ABX9TyMZShq+PgtSMTxCIzWQKUQK",
      "include_colab_link": true
    },
    "kernelspec": {
      "name": "python3",
      "display_name": "Python 3"
    }
  },
  "cells": [
    {
      "cell_type": "markdown",
      "metadata": {
        "id": "view-in-github",
        "colab_type": "text"
      },
      "source": [
        "<a href=\"https://colab.research.google.com/github/ppiont/cnn-soc-wagga/blob/master/data_visualization.ipynb\" target=\"_parent\"><img src=\"https://colab.research.google.com/assets/colab-badge.svg\" alt=\"Open In Colab\"/></a>"
      ]
    },
    {
      "cell_type": "code",
      "metadata": {
        "id": "tpwxNPHfv66U",
        "colab_type": "code",
        "colab": {
          "base_uri": "https://localhost:8080/",
          "height": 139
        },
        "outputId": "295e9b6a-a310-4cda-dc03-ef56feb11a57"
      },
      "source": [
        "from google.colab import drive # import drive from google colab\n",
        "ROOT = \"/content/drive\"     # default location for the drive\n",
        "print(ROOT)                 # print content of ROOT (Optional)\n",
        "drive.mount(ROOT, force_remount=True)           # we mount the google drive at /content/drive"
      ],
      "execution_count": 1,
      "outputs": [
        {
          "output_type": "stream",
          "text": [
            "/content/drive\n",
            "Go to this URL in a browser: https://accounts.google.com/o/oauth2/auth?client_id=947318989803-6bn6qk8qdgf4n4g3pfee6491hc0brc4i.apps.googleusercontent.com&redirect_uri=urn%3aietf%3awg%3aoauth%3a2.0%3aoob&response_type=code&scope=email%20https%3a%2f%2fwww.googleapis.com%2fauth%2fdocs.test%20https%3a%2f%2fwww.googleapis.com%2fauth%2fdrive%20https%3a%2f%2fwww.googleapis.com%2fauth%2fdrive.photos.readonly%20https%3a%2f%2fwww.googleapis.com%2fauth%2fpeopleapi.readonly\n",
            "\n",
            "Enter your authorization code:\n",
            "··········\n",
            "Mounted at /content/drive\n"
          ],
          "name": "stdout"
        }
      ]
    },
    {
      "cell_type": "code",
      "metadata": {
        "id": "wkLyeyzTwG9w",
        "colab_type": "code",
        "colab": {
          "base_uri": "https://localhost:8080/",
          "height": 34
        },
        "outputId": "5b1aee3b-a4a9-4675-8d5f-355be756f24a"
      },
      "source": [
        "%cd \"/content/drive/My Drive/Thesis/cnn-soc-wagga\""
      ],
      "execution_count": 2,
      "outputs": [
        {
          "output_type": "stream",
          "text": [
            "/content/drive/My Drive/Thesis/cnn-soc-wagga\n"
          ],
          "name": "stdout"
        }
      ]
    },
    {
      "cell_type": "code",
      "metadata": {
        "id": "Xw4edACMw6bx",
        "colab_type": "code",
        "colab": {}
      },
      "source": [
        "%%capture\n",
        "\n",
        "!pip install geopandas"
      ],
      "execution_count": 0,
      "outputs": []
    },
    {
      "cell_type": "code",
      "metadata": {
        "id": "1MqRK2dlwMZv",
        "colab_type": "code",
        "colab": {
          "base_uri": "https://localhost:8080/",
          "height": 204
        },
        "outputId": "9fd847bf-fefb-4f18-8f26-a2b51fb3cf6c"
      },
      "source": [
        "import pandas as pd\n",
        "df = pd.read_csv(\"data/germany_targets.csv\", index_col = 0)\n",
        "df.head()"
      ],
      "execution_count": 9,
      "outputs": [
        {
          "output_type": "execute_result",
          "data": {
            "text/html": [
              "<div>\n",
              "<style scoped>\n",
              "    .dataframe tbody tr th:only-of-type {\n",
              "        vertical-align: middle;\n",
              "    }\n",
              "\n",
              "    .dataframe tbody tr th {\n",
              "        vertical-align: top;\n",
              "    }\n",
              "\n",
              "    .dataframe thead th {\n",
              "        text-align: right;\n",
              "    }\n",
              "</style>\n",
              "<table border=\"1\" class=\"dataframe\">\n",
              "  <thead>\n",
              "    <tr style=\"text-align: right;\">\n",
              "      <th></th>\n",
              "      <th>POINT_ID</th>\n",
              "      <th>coarse</th>\n",
              "      <th>clay</th>\n",
              "      <th>silt</th>\n",
              "      <th>sand</th>\n",
              "      <th>pH_in_H2O</th>\n",
              "      <th>pH_in_CaCl2</th>\n",
              "      <th>OC</th>\n",
              "      <th>CaCO3</th>\n",
              "      <th>N</th>\n",
              "      <th>P</th>\n",
              "      <th>K</th>\n",
              "      <th>CEC</th>\n",
              "      <th>Notes</th>\n",
              "      <th>sample_ID</th>\n",
              "      <th>GPS_LAT</th>\n",
              "      <th>GPS_LONG</th>\n",
              "      <th>geometry</th>\n",
              "    </tr>\n",
              "  </thead>\n",
              "  <tbody>\n",
              "    <tr>\n",
              "      <th>7620</th>\n",
              "      <td>46563124.0</td>\n",
              "      <td>8</td>\n",
              "      <td>13.0</td>\n",
              "      <td>63.0</td>\n",
              "      <td>24.0</td>\n",
              "      <td>5.26</td>\n",
              "      <td>4.83</td>\n",
              "      <td>20.0</td>\n",
              "      <td>0.0</td>\n",
              "      <td>2.1</td>\n",
              "      <td>11.4</td>\n",
              "      <td>49.0</td>\n",
              "      <td>8.5</td>\n",
              "      <td>NaN</td>\n",
              "      <td>2450</td>\n",
              "      <td>51.13</td>\n",
              "      <td>14.79</td>\n",
              "      <td>POINT (14.79 51.13)</td>\n",
              "    </tr>\n",
              "    <tr>\n",
              "      <th>7663</th>\n",
              "      <td>46543152.0</td>\n",
              "      <td>5</td>\n",
              "      <td>3.0</td>\n",
              "      <td>8.0</td>\n",
              "      <td>90.0</td>\n",
              "      <td>4.05</td>\n",
              "      <td>3.27</td>\n",
              "      <td>27.9</td>\n",
              "      <td>0.0</td>\n",
              "      <td>1.0</td>\n",
              "      <td>12.4</td>\n",
              "      <td>28.7</td>\n",
              "      <td>5.8</td>\n",
              "      <td>NaN</td>\n",
              "      <td>2808</td>\n",
              "      <td>51.38</td>\n",
              "      <td>14.79</td>\n",
              "      <td>POINT (14.79 51.38)</td>\n",
              "    </tr>\n",
              "    <tr>\n",
              "      <th>7664</th>\n",
              "      <td>46543138.0</td>\n",
              "      <td>14</td>\n",
              "      <td>7.0</td>\n",
              "      <td>28.0</td>\n",
              "      <td>64.0</td>\n",
              "      <td>3.85</td>\n",
              "      <td>3.44</td>\n",
              "      <td>32.2</td>\n",
              "      <td>0.0</td>\n",
              "      <td>1.9</td>\n",
              "      <td>28.8</td>\n",
              "      <td>58.7</td>\n",
              "      <td>5.9</td>\n",
              "      <td>NaN</td>\n",
              "      <td>1559</td>\n",
              "      <td>51.26</td>\n",
              "      <td>14.77</td>\n",
              "      <td>POINT (14.77 51.26)</td>\n",
              "    </tr>\n",
              "    <tr>\n",
              "      <th>7745</th>\n",
              "      <td>46483136.0</td>\n",
              "      <td>17</td>\n",
              "      <td>7.0</td>\n",
              "      <td>25.0</td>\n",
              "      <td>68.0</td>\n",
              "      <td>6.06</td>\n",
              "      <td>5.62</td>\n",
              "      <td>13.7</td>\n",
              "      <td>0.0</td>\n",
              "      <td>1.4</td>\n",
              "      <td>63.1</td>\n",
              "      <td>155.5</td>\n",
              "      <td>6.3</td>\n",
              "      <td>NaN</td>\n",
              "      <td>2438</td>\n",
              "      <td>51.24</td>\n",
              "      <td>14.69</td>\n",
              "      <td>POINT (14.69 51.24)</td>\n",
              "    </tr>\n",
              "    <tr>\n",
              "      <th>7809</th>\n",
              "      <td>46443178.0</td>\n",
              "      <td>9</td>\n",
              "      <td>4.0</td>\n",
              "      <td>12.0</td>\n",
              "      <td>84.0</td>\n",
              "      <td>4.90</td>\n",
              "      <td>4.29</td>\n",
              "      <td>20.3</td>\n",
              "      <td>1.0</td>\n",
              "      <td>0.8</td>\n",
              "      <td>0.0</td>\n",
              "      <td>22.2</td>\n",
              "      <td>3.3</td>\n",
              "      <td>NaN</td>\n",
              "      <td>2774</td>\n",
              "      <td>51.62</td>\n",
              "      <td>14.67</td>\n",
              "      <td>POINT (14.67 51.62)</td>\n",
              "    </tr>\n",
              "  </tbody>\n",
              "</table>\n",
              "</div>"
            ],
            "text/plain": [
              "        POINT_ID  coarse  clay  ...  GPS_LAT  GPS_LONG             geometry\n",
              "7620  46563124.0       8  13.0  ...    51.13     14.79  POINT (14.79 51.13)\n",
              "7663  46543152.0       5   3.0  ...    51.38     14.79  POINT (14.79 51.38)\n",
              "7664  46543138.0      14   7.0  ...    51.26     14.77  POINT (14.77 51.26)\n",
              "7745  46483136.0      17   7.0  ...    51.24     14.69  POINT (14.69 51.24)\n",
              "7809  46443178.0       9   4.0  ...    51.62     14.67  POINT (14.67 51.62)\n",
              "\n",
              "[5 rows x 18 columns]"
            ]
          },
          "metadata": {
            "tags": []
          },
          "execution_count": 9
        }
      ]
    },
    {
      "cell_type": "code",
      "metadata": {
        "id": "D_J-WsacwMn-",
        "colab_type": "code",
        "colab": {}
      },
      "source": [
        "import geopandas as gpd"
      ],
      "execution_count": 0,
      "outputs": []
    },
    {
      "cell_type": "code",
      "metadata": {
        "id": "5px5x1yFwMtZ",
        "colab_type": "code",
        "colab": {}
      },
      "source": [
        "gdf = gpd.GeoDataFrame(df, geometry = gpd.points_from_xy(df.GPS_LONG, df.GPS_LAT), crs = \"EPSG:4326\")"
      ],
      "execution_count": 0,
      "outputs": []
    },
    {
      "cell_type": "code",
      "metadata": {
        "id": "N08t-t5WyKx7",
        "colab_type": "code",
        "colab": {
          "base_uri": "https://localhost:8080/",
          "height": 204
        },
        "outputId": "79def9c9-f432-48d8-e90f-f306958731e5"
      },
      "source": [
        "gdf.head()"
      ],
      "execution_count": 13,
      "outputs": [
        {
          "output_type": "execute_result",
          "data": {
            "text/html": [
              "<div>\n",
              "<style scoped>\n",
              "    .dataframe tbody tr th:only-of-type {\n",
              "        vertical-align: middle;\n",
              "    }\n",
              "\n",
              "    .dataframe tbody tr th {\n",
              "        vertical-align: top;\n",
              "    }\n",
              "\n",
              "    .dataframe thead th {\n",
              "        text-align: right;\n",
              "    }\n",
              "</style>\n",
              "<table border=\"1\" class=\"dataframe\">\n",
              "  <thead>\n",
              "    <tr style=\"text-align: right;\">\n",
              "      <th></th>\n",
              "      <th>POINT_ID</th>\n",
              "      <th>coarse</th>\n",
              "      <th>clay</th>\n",
              "      <th>silt</th>\n",
              "      <th>sand</th>\n",
              "      <th>pH_in_H2O</th>\n",
              "      <th>pH_in_CaCl2</th>\n",
              "      <th>OC</th>\n",
              "      <th>CaCO3</th>\n",
              "      <th>N</th>\n",
              "      <th>P</th>\n",
              "      <th>K</th>\n",
              "      <th>CEC</th>\n",
              "      <th>Notes</th>\n",
              "      <th>sample_ID</th>\n",
              "      <th>GPS_LAT</th>\n",
              "      <th>GPS_LONG</th>\n",
              "      <th>geometry</th>\n",
              "    </tr>\n",
              "  </thead>\n",
              "  <tbody>\n",
              "    <tr>\n",
              "      <th>7620</th>\n",
              "      <td>46563124.0</td>\n",
              "      <td>8</td>\n",
              "      <td>13.0</td>\n",
              "      <td>63.0</td>\n",
              "      <td>24.0</td>\n",
              "      <td>5.26</td>\n",
              "      <td>4.83</td>\n",
              "      <td>20.0</td>\n",
              "      <td>0.0</td>\n",
              "      <td>2.1</td>\n",
              "      <td>11.4</td>\n",
              "      <td>49.0</td>\n",
              "      <td>8.5</td>\n",
              "      <td>NaN</td>\n",
              "      <td>2450</td>\n",
              "      <td>51.13</td>\n",
              "      <td>14.79</td>\n",
              "      <td>POINT (14.79000 51.13000)</td>\n",
              "    </tr>\n",
              "    <tr>\n",
              "      <th>7663</th>\n",
              "      <td>46543152.0</td>\n",
              "      <td>5</td>\n",
              "      <td>3.0</td>\n",
              "      <td>8.0</td>\n",
              "      <td>90.0</td>\n",
              "      <td>4.05</td>\n",
              "      <td>3.27</td>\n",
              "      <td>27.9</td>\n",
              "      <td>0.0</td>\n",
              "      <td>1.0</td>\n",
              "      <td>12.4</td>\n",
              "      <td>28.7</td>\n",
              "      <td>5.8</td>\n",
              "      <td>NaN</td>\n",
              "      <td>2808</td>\n",
              "      <td>51.38</td>\n",
              "      <td>14.79</td>\n",
              "      <td>POINT (14.79000 51.38000)</td>\n",
              "    </tr>\n",
              "    <tr>\n",
              "      <th>7664</th>\n",
              "      <td>46543138.0</td>\n",
              "      <td>14</td>\n",
              "      <td>7.0</td>\n",
              "      <td>28.0</td>\n",
              "      <td>64.0</td>\n",
              "      <td>3.85</td>\n",
              "      <td>3.44</td>\n",
              "      <td>32.2</td>\n",
              "      <td>0.0</td>\n",
              "      <td>1.9</td>\n",
              "      <td>28.8</td>\n",
              "      <td>58.7</td>\n",
              "      <td>5.9</td>\n",
              "      <td>NaN</td>\n",
              "      <td>1559</td>\n",
              "      <td>51.26</td>\n",
              "      <td>14.77</td>\n",
              "      <td>POINT (14.77000 51.26000)</td>\n",
              "    </tr>\n",
              "    <tr>\n",
              "      <th>7745</th>\n",
              "      <td>46483136.0</td>\n",
              "      <td>17</td>\n",
              "      <td>7.0</td>\n",
              "      <td>25.0</td>\n",
              "      <td>68.0</td>\n",
              "      <td>6.06</td>\n",
              "      <td>5.62</td>\n",
              "      <td>13.7</td>\n",
              "      <td>0.0</td>\n",
              "      <td>1.4</td>\n",
              "      <td>63.1</td>\n",
              "      <td>155.5</td>\n",
              "      <td>6.3</td>\n",
              "      <td>NaN</td>\n",
              "      <td>2438</td>\n",
              "      <td>51.24</td>\n",
              "      <td>14.69</td>\n",
              "      <td>POINT (14.69000 51.24000)</td>\n",
              "    </tr>\n",
              "    <tr>\n",
              "      <th>7809</th>\n",
              "      <td>46443178.0</td>\n",
              "      <td>9</td>\n",
              "      <td>4.0</td>\n",
              "      <td>12.0</td>\n",
              "      <td>84.0</td>\n",
              "      <td>4.90</td>\n",
              "      <td>4.29</td>\n",
              "      <td>20.3</td>\n",
              "      <td>1.0</td>\n",
              "      <td>0.8</td>\n",
              "      <td>0.0</td>\n",
              "      <td>22.2</td>\n",
              "      <td>3.3</td>\n",
              "      <td>NaN</td>\n",
              "      <td>2774</td>\n",
              "      <td>51.62</td>\n",
              "      <td>14.67</td>\n",
              "      <td>POINT (14.67000 51.62000)</td>\n",
              "    </tr>\n",
              "  </tbody>\n",
              "</table>\n",
              "</div>"
            ],
            "text/plain": [
              "        POINT_ID  coarse  clay  ...  GPS_LAT  GPS_LONG                   geometry\n",
              "7620  46563124.0       8  13.0  ...    51.13     14.79  POINT (14.79000 51.13000)\n",
              "7663  46543152.0       5   3.0  ...    51.38     14.79  POINT (14.79000 51.38000)\n",
              "7664  46543138.0      14   7.0  ...    51.26     14.77  POINT (14.77000 51.26000)\n",
              "7745  46483136.0      17   7.0  ...    51.24     14.69  POINT (14.69000 51.24000)\n",
              "7809  46443178.0       9   4.0  ...    51.62     14.67  POINT (14.67000 51.62000)\n",
              "\n",
              "[5 rows x 18 columns]"
            ]
          },
          "metadata": {
            "tags": []
          },
          "execution_count": 13
        }
      ]
    },
    {
      "cell_type": "code",
      "metadata": {
        "id": "xlUYIJMowMyJ",
        "colab_type": "code",
        "colab": {}
      },
      "source": [
        "# We restrict to Germany\n",
        "ax = world[world.name == \"Germany\"].plot(\n",
        "    color='white', edgecolor='black')\n",
        "\n",
        "# We can now plot our ``GeoDataFrame``.\n",
        "targets.plot(ax=ax, marker = '.', column = \"OC\")\n",
        "plt.show()"
      ],
      "execution_count": 0,
      "outputs": []
    }
  ]
}