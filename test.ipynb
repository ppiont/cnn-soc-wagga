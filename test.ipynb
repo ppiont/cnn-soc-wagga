{
  "nbformat": 4,
  "nbformat_minor": 0,
  "metadata": {
    "colab": {
      "name": "Untitled2.ipynb",
      "provenance": [],
      "authorship_tag": "ABX9TyMaEqR8yCqDg7InmIdkPDFS",
      "include_colab_link": true
    },
    "kernelspec": {
      "name": "python3",
      "display_name": "Python 3"
    }
  },
  "cells": [
    {
      "cell_type": "markdown",
      "metadata": {
        "id": "view-in-github",
        "colab_type": "text"
      },
      "source": [
        "<a href=\"https://colab.research.google.com/github/ppiont/cnn-soc-wagga/blob/master/test.ipynb\" target=\"_parent\"><img src=\"https://colab.research.google.com/assets/colab-badge.svg\" alt=\"Open In Colab\"/></a>"
      ]
    },
    {
      "cell_type": "code",
      "metadata": {
        "id": "seXRuFJSkvpI",
        "colab_type": "code",
        "colab": {
          "base_uri": "https://localhost:8080/",
          "height": 442
        },
        "outputId": "fb898832-b02d-408e-f4e2-13f24bc3b2d9"
      },
      "source": [
        "!pip install geopandas"
      ],
      "execution_count": 8,
      "outputs": [
        {
          "output_type": "stream",
          "text": [
            "Collecting geopandas\n",
            "\u001b[?25l  Downloading https://files.pythonhosted.org/packages/83/c5/3cf9cdc39a6f2552922f79915f36b45a95b71fd343cfc51170a5b6ddb6e8/geopandas-0.7.0-py2.py3-none-any.whl (928kB)\n",
            "\u001b[K     |████████████████████████████████| 931kB 2.7MB/s \n",
            "\u001b[?25hRequirement already satisfied: shapely in /usr/local/lib/python3.6/dist-packages (from geopandas) (1.7.0)\n",
            "Collecting pyproj>=2.2.0\n",
            "\u001b[?25l  Downloading https://files.pythonhosted.org/packages/ce/37/705ee471f71130d4ceee41bbcb06f3b52175cb89273cbb5755ed5e6374e0/pyproj-2.6.0-cp36-cp36m-manylinux2010_x86_64.whl (10.4MB)\n",
            "\u001b[K     |████████████████████████████████| 10.4MB 15.3MB/s \n",
            "\u001b[?25hCollecting fiona\n",
            "\u001b[?25l  Downloading https://files.pythonhosted.org/packages/ec/20/4e63bc5c6e62df889297b382c3ccd4a7a488b00946aaaf81a118158c6f09/Fiona-1.8.13.post1-cp36-cp36m-manylinux1_x86_64.whl (14.7MB)\n",
            "\u001b[K     |████████████████████████████████| 14.7MB 298kB/s \n",
            "\u001b[?25hRequirement already satisfied: pandas>=0.23.0 in /usr/local/lib/python3.6/dist-packages (from geopandas) (1.0.3)\n",
            "Collecting click-plugins>=1.0\n",
            "  Downloading https://files.pythonhosted.org/packages/e9/da/824b92d9942f4e472702488857914bdd50f73021efea15b4cad9aca8ecef/click_plugins-1.1.1-py2.py3-none-any.whl\n",
            "Requirement already satisfied: click<8,>=4.0 in /usr/local/lib/python3.6/dist-packages (from fiona->geopandas) (7.1.1)\n",
            "Requirement already satisfied: attrs>=17 in /usr/local/lib/python3.6/dist-packages (from fiona->geopandas) (19.3.0)\n",
            "Collecting munch\n",
            "  Downloading https://files.pythonhosted.org/packages/cc/ab/85d8da5c9a45e072301beb37ad7f833cd344e04c817d97e0cc75681d248f/munch-2.5.0-py2.py3-none-any.whl\n",
            "Collecting cligj>=0.5\n",
            "  Downloading https://files.pythonhosted.org/packages/e4/be/30a58b4b0733850280d01f8bd132591b4668ed5c7046761098d665ac2174/cligj-0.5.0-py3-none-any.whl\n",
            "Requirement already satisfied: six>=1.7 in /usr/local/lib/python3.6/dist-packages (from fiona->geopandas) (1.12.0)\n",
            "Requirement already satisfied: python-dateutil>=2.6.1 in /usr/local/lib/python3.6/dist-packages (from pandas>=0.23.0->geopandas) (2.8.1)\n",
            "Requirement already satisfied: numpy>=1.13.3 in /usr/local/lib/python3.6/dist-packages (from pandas>=0.23.0->geopandas) (1.18.2)\n",
            "Requirement already satisfied: pytz>=2017.2 in /usr/local/lib/python3.6/dist-packages (from pandas>=0.23.0->geopandas) (2018.9)\n",
            "Installing collected packages: pyproj, click-plugins, munch, cligj, fiona, geopandas\n",
            "Successfully installed click-plugins-1.1.1 cligj-0.5.0 fiona-1.8.13.post1 geopandas-0.7.0 munch-2.5.0 pyproj-2.6.0\n"
          ],
          "name": "stdout"
        }
      ]
    },
    {
      "cell_type": "code",
      "metadata": {
        "id": "a4rWTWRRcrHj",
        "colab_type": "code",
        "colab": {
          "base_uri": "https://localhost:8080/",
          "height": 51
        },
        "outputId": "157a4bce-f8e9-4ecc-a292-b40501999f60"
      },
      "source": [
        "# Mount Google Drive\n",
        "from google.colab import drive # import drive from google colab\n",
        "\n",
        "ROOT = \"/content/drive\"     # default location for the drive\n",
        "print(ROOT)                 # print content of ROOT (Optional)\n",
        "\n",
        "drive.mount(ROOT, force_remount=True)           # we mount the google drive at /content/drive"
      ],
      "execution_count": 1,
      "outputs": [
        {
          "output_type": "stream",
          "text": [
            "/content/drive\n",
            "Mounted at /content/drive\n"
          ],
          "name": "stdout"
        }
      ]
    },
    {
      "cell_type": "code",
      "metadata": {
        "id": "9hwxFfx5jwg-",
        "colab_type": "code",
        "colab": {
          "base_uri": "https://localhost:8080/",
          "height": 34
        },
        "outputId": "91660fec-4759-476d-9493-f92c33050e88"
      },
      "source": [
        "%cd \"drive/My Drive/Thesis/cnn-soc-wagga\""
      ],
      "execution_count": 4,
      "outputs": [
        {
          "output_type": "stream",
          "text": [
            "/content/drive/My Drive/Thesis/cnn-soc-wagga\n"
          ],
          "name": "stdout"
        }
      ]
    },
    {
      "cell_type": "code",
      "metadata": {
        "id": "XmxrZjzqj3if",
        "colab_type": "code",
        "colab": {}
      },
      "source": [
        "import pandas as pd\n",
        "df = pd.read_csv(\"data/LUCAS_TOPSOIL_v1.csv\")"
      ],
      "execution_count": 0,
      "outputs": []
    },
    {
      "cell_type": "code",
      "metadata": {
        "id": "8xfbhaB6kN55",
        "colab_type": "code",
        "colab": {}
      },
      "source": [
        "import geopandas as gpd\n",
        "import matplotlib.pyplot as plt"
      ],
      "execution_count": 0,
      "outputs": []
    },
    {
      "cell_type": "code",
      "metadata": {
        "id": "LAaL_yRmk1bi",
        "colab_type": "code",
        "colab": {}
      },
      "source": [
        "gdf = gpd.GeoDataFrame(df, geometry = gpd.points_from_xy(df.GPS_LONG, df.GPS_LAT))"
      ],
      "execution_count": 0,
      "outputs": []
    },
    {
      "cell_type": "code",
      "metadata": {
        "id": "wCM0FvkhlP73",
        "colab_type": "code",
        "colab": {
          "base_uri": "https://localhost:8080/",
          "height": 204
        },
        "outputId": "bb83efbe-9a3d-49c4-b26f-c2828f6e5256"
      },
      "source": [
        "df.head()"
      ],
      "execution_count": 12,
      "outputs": [
        {
          "output_type": "execute_result",
          "data": {
            "text/html": [
              "<div>\n",
              "<style scoped>\n",
              "    .dataframe tbody tr th:only-of-type {\n",
              "        vertical-align: middle;\n",
              "    }\n",
              "\n",
              "    .dataframe tbody tr th {\n",
              "        vertical-align: top;\n",
              "    }\n",
              "\n",
              "    .dataframe thead th {\n",
              "        text-align: right;\n",
              "    }\n",
              "</style>\n",
              "<table border=\"1\" class=\"dataframe\">\n",
              "  <thead>\n",
              "    <tr style=\"text-align: right;\">\n",
              "      <th></th>\n",
              "      <th>POINT_ID</th>\n",
              "      <th>coarse</th>\n",
              "      <th>clay</th>\n",
              "      <th>silt</th>\n",
              "      <th>sand</th>\n",
              "      <th>pH_in_H2O</th>\n",
              "      <th>pH_in_CaCl2</th>\n",
              "      <th>OC</th>\n",
              "      <th>CaCO3</th>\n",
              "      <th>N</th>\n",
              "      <th>P</th>\n",
              "      <th>K</th>\n",
              "      <th>CEC</th>\n",
              "      <th>Notes</th>\n",
              "      <th>sample_ID</th>\n",
              "      <th>GPS_LAT</th>\n",
              "      <th>GPS_LONG</th>\n",
              "    </tr>\n",
              "  </thead>\n",
              "  <tbody>\n",
              "    <tr>\n",
              "      <th>0</th>\n",
              "      <td>NE</td>\n",
              "      <td>25</td>\n",
              "      <td>17.0</td>\n",
              "      <td>39.0</td>\n",
              "      <td>43.0</td>\n",
              "      <td>7.98</td>\n",
              "      <td>7.37</td>\n",
              "      <td>21.5</td>\n",
              "      <td>776.0</td>\n",
              "      <td>1.7</td>\n",
              "      <td>182.0</td>\n",
              "      <td>571.0</td>\n",
              "      <td>14.7</td>\n",
              "      <td>NaN</td>\n",
              "      <td>31035</td>\n",
              "      <td>34.68</td>\n",
              "      <td>32.69</td>\n",
              "    </tr>\n",
              "    <tr>\n",
              "      <th>1</th>\n",
              "      <td>NE</td>\n",
              "      <td>28</td>\n",
              "      <td>25.0</td>\n",
              "      <td>41.0</td>\n",
              "      <td>34.0</td>\n",
              "      <td>8.26</td>\n",
              "      <td>7.54</td>\n",
              "      <td>26.7</td>\n",
              "      <td>611.0</td>\n",
              "      <td>1.6</td>\n",
              "      <td>5.0</td>\n",
              "      <td>148.0</td>\n",
              "      <td>23.4</td>\n",
              "      <td>NaN</td>\n",
              "      <td>31044</td>\n",
              "      <td>34.69</td>\n",
              "      <td>32.90</td>\n",
              "    </tr>\n",
              "    <tr>\n",
              "      <th>2</th>\n",
              "      <td>NE</td>\n",
              "      <td>19</td>\n",
              "      <td>30.0</td>\n",
              "      <td>48.0</td>\n",
              "      <td>22.0</td>\n",
              "      <td>8.22</td>\n",
              "      <td>7.48</td>\n",
              "      <td>28.5</td>\n",
              "      <td>588.0</td>\n",
              "      <td>2.7</td>\n",
              "      <td>5.0</td>\n",
              "      <td>249.0</td>\n",
              "      <td>28.2</td>\n",
              "      <td>NaN</td>\n",
              "      <td>31034</td>\n",
              "      <td>34.69</td>\n",
              "      <td>32.67</td>\n",
              "    </tr>\n",
              "    <tr>\n",
              "      <th>3</th>\n",
              "      <td>NE</td>\n",
              "      <td>20</td>\n",
              "      <td>23.0</td>\n",
              "      <td>50.0</td>\n",
              "      <td>27.0</td>\n",
              "      <td>8.34</td>\n",
              "      <td>7.47</td>\n",
              "      <td>19.6</td>\n",
              "      <td>655.0</td>\n",
              "      <td>1.1</td>\n",
              "      <td>5.0</td>\n",
              "      <td>299.0</td>\n",
              "      <td>18.2</td>\n",
              "      <td>NaN</td>\n",
              "      <td>31036</td>\n",
              "      <td>34.71</td>\n",
              "      <td>32.74</td>\n",
              "    </tr>\n",
              "    <tr>\n",
              "      <th>4</th>\n",
              "      <td>NE</td>\n",
              "      <td>17</td>\n",
              "      <td>29.0</td>\n",
              "      <td>39.0</td>\n",
              "      <td>32.0</td>\n",
              "      <td>8.06</td>\n",
              "      <td>7.46</td>\n",
              "      <td>18.3</td>\n",
              "      <td>499.0</td>\n",
              "      <td>1.3</td>\n",
              "      <td>15.0</td>\n",
              "      <td>225.0</td>\n",
              "      <td>23.4</td>\n",
              "      <td>NaN</td>\n",
              "      <td>31021</td>\n",
              "      <td>34.71</td>\n",
              "      <td>32.59</td>\n",
              "    </tr>\n",
              "  </tbody>\n",
              "</table>\n",
              "</div>"
            ],
            "text/plain": [
              "  POINT_ID  coarse  clay  silt  sand  ...   CEC  Notes  sample_ID  GPS_LAT  GPS_LONG\n",
              "0       NE      25  17.0  39.0  43.0  ...  14.7    NaN      31035    34.68     32.69\n",
              "1       NE      28  25.0  41.0  34.0  ...  23.4    NaN      31044    34.69     32.90\n",
              "2       NE      19  30.0  48.0  22.0  ...  28.2    NaN      31034    34.69     32.67\n",
              "3       NE      20  23.0  50.0  27.0  ...  18.2    NaN      31036    34.71     32.74\n",
              "4       NE      17  29.0  39.0  32.0  ...  23.4    NaN      31021    34.71     32.59\n",
              "\n",
              "[5 rows x 17 columns]"
            ]
          },
          "metadata": {
            "tags": []
          },
          "execution_count": 12
        }
      ]
    },
    {
      "cell_type": "code",
      "metadata": {
        "id": "PnKo_6FdlZcV",
        "colab_type": "code",
        "colab": {
          "base_uri": "https://localhost:8080/",
          "height": 204
        },
        "outputId": "266c9b6a-7ea9-4d8d-b692-f176e49e426c"
      },
      "source": [
        "gdf.head()"
      ],
      "execution_count": 14,
      "outputs": [
        {
          "output_type": "execute_result",
          "data": {
            "text/html": [
              "<div>\n",
              "<style scoped>\n",
              "    .dataframe tbody tr th:only-of-type {\n",
              "        vertical-align: middle;\n",
              "    }\n",
              "\n",
              "    .dataframe tbody tr th {\n",
              "        vertical-align: top;\n",
              "    }\n",
              "\n",
              "    .dataframe thead th {\n",
              "        text-align: right;\n",
              "    }\n",
              "</style>\n",
              "<table border=\"1\" class=\"dataframe\">\n",
              "  <thead>\n",
              "    <tr style=\"text-align: right;\">\n",
              "      <th></th>\n",
              "      <th>POINT_ID</th>\n",
              "      <th>coarse</th>\n",
              "      <th>clay</th>\n",
              "      <th>silt</th>\n",
              "      <th>sand</th>\n",
              "      <th>pH_in_H2O</th>\n",
              "      <th>pH_in_CaCl2</th>\n",
              "      <th>OC</th>\n",
              "      <th>CaCO3</th>\n",
              "      <th>N</th>\n",
              "      <th>P</th>\n",
              "      <th>K</th>\n",
              "      <th>CEC</th>\n",
              "      <th>Notes</th>\n",
              "      <th>sample_ID</th>\n",
              "      <th>GPS_LAT</th>\n",
              "      <th>GPS_LONG</th>\n",
              "      <th>geometry</th>\n",
              "    </tr>\n",
              "  </thead>\n",
              "  <tbody>\n",
              "    <tr>\n",
              "      <th>0</th>\n",
              "      <td>NE</td>\n",
              "      <td>25</td>\n",
              "      <td>17.0</td>\n",
              "      <td>39.0</td>\n",
              "      <td>43.0</td>\n",
              "      <td>7.98</td>\n",
              "      <td>7.37</td>\n",
              "      <td>21.5</td>\n",
              "      <td>776.0</td>\n",
              "      <td>1.7</td>\n",
              "      <td>182.0</td>\n",
              "      <td>571.0</td>\n",
              "      <td>14.7</td>\n",
              "      <td>NaN</td>\n",
              "      <td>31035</td>\n",
              "      <td>34.68</td>\n",
              "      <td>32.69</td>\n",
              "      <td>POINT (32.69000 34.68000)</td>\n",
              "    </tr>\n",
              "    <tr>\n",
              "      <th>1</th>\n",
              "      <td>NE</td>\n",
              "      <td>28</td>\n",
              "      <td>25.0</td>\n",
              "      <td>41.0</td>\n",
              "      <td>34.0</td>\n",
              "      <td>8.26</td>\n",
              "      <td>7.54</td>\n",
              "      <td>26.7</td>\n",
              "      <td>611.0</td>\n",
              "      <td>1.6</td>\n",
              "      <td>5.0</td>\n",
              "      <td>148.0</td>\n",
              "      <td>23.4</td>\n",
              "      <td>NaN</td>\n",
              "      <td>31044</td>\n",
              "      <td>34.69</td>\n",
              "      <td>32.90</td>\n",
              "      <td>POINT (32.90000 34.69000)</td>\n",
              "    </tr>\n",
              "    <tr>\n",
              "      <th>2</th>\n",
              "      <td>NE</td>\n",
              "      <td>19</td>\n",
              "      <td>30.0</td>\n",
              "      <td>48.0</td>\n",
              "      <td>22.0</td>\n",
              "      <td>8.22</td>\n",
              "      <td>7.48</td>\n",
              "      <td>28.5</td>\n",
              "      <td>588.0</td>\n",
              "      <td>2.7</td>\n",
              "      <td>5.0</td>\n",
              "      <td>249.0</td>\n",
              "      <td>28.2</td>\n",
              "      <td>NaN</td>\n",
              "      <td>31034</td>\n",
              "      <td>34.69</td>\n",
              "      <td>32.67</td>\n",
              "      <td>POINT (32.67000 34.69000)</td>\n",
              "    </tr>\n",
              "    <tr>\n",
              "      <th>3</th>\n",
              "      <td>NE</td>\n",
              "      <td>20</td>\n",
              "      <td>23.0</td>\n",
              "      <td>50.0</td>\n",
              "      <td>27.0</td>\n",
              "      <td>8.34</td>\n",
              "      <td>7.47</td>\n",
              "      <td>19.6</td>\n",
              "      <td>655.0</td>\n",
              "      <td>1.1</td>\n",
              "      <td>5.0</td>\n",
              "      <td>299.0</td>\n",
              "      <td>18.2</td>\n",
              "      <td>NaN</td>\n",
              "      <td>31036</td>\n",
              "      <td>34.71</td>\n",
              "      <td>32.74</td>\n",
              "      <td>POINT (32.74000 34.71000)</td>\n",
              "    </tr>\n",
              "    <tr>\n",
              "      <th>4</th>\n",
              "      <td>NE</td>\n",
              "      <td>17</td>\n",
              "      <td>29.0</td>\n",
              "      <td>39.0</td>\n",
              "      <td>32.0</td>\n",
              "      <td>8.06</td>\n",
              "      <td>7.46</td>\n",
              "      <td>18.3</td>\n",
              "      <td>499.0</td>\n",
              "      <td>1.3</td>\n",
              "      <td>15.0</td>\n",
              "      <td>225.0</td>\n",
              "      <td>23.4</td>\n",
              "      <td>NaN</td>\n",
              "      <td>31021</td>\n",
              "      <td>34.71</td>\n",
              "      <td>32.59</td>\n",
              "      <td>POINT (32.59000 34.71000)</td>\n",
              "    </tr>\n",
              "  </tbody>\n",
              "</table>\n",
              "</div>"
            ],
            "text/plain": [
              "  POINT_ID  coarse  clay  ...  GPS_LAT  GPS_LONG                   geometry\n",
              "0       NE      25  17.0  ...    34.68     32.69  POINT (32.69000 34.68000)\n",
              "1       NE      28  25.0  ...    34.69     32.90  POINT (32.90000 34.69000)\n",
              "2       NE      19  30.0  ...    34.69     32.67  POINT (32.67000 34.69000)\n",
              "3       NE      20  23.0  ...    34.71     32.74  POINT (32.74000 34.71000)\n",
              "4       NE      17  29.0  ...    34.71     32.59  POINT (32.59000 34.71000)\n",
              "\n",
              "[5 rows x 18 columns]"
            ]
          },
          "metadata": {
            "tags": []
          },
          "execution_count": 14
        }
      ]
    },
    {
      "cell_type": "code",
      "metadata": {
        "id": "gbrHg6Ifl_Lv",
        "colab_type": "code",
        "colab": {}
      },
      "source": [
        "plt.rcParams['figure.figsize'] = 20,20"
      ],
      "execution_count": 0,
      "outputs": []
    },
    {
      "cell_type": "code",
      "metadata": {
        "id": "-s4cZCxUlixu",
        "colab_type": "code",
        "colab": {
          "base_uri": "https://localhost:8080/",
          "height": 293
        },
        "outputId": "4708e3fb-df4d-4376-8ad3-c717ac42f15b"
      },
      "source": [
        "world = gpd.read_file(gpd.datasets.get_path('naturalearth_lowres'))\n",
        "\n",
        "# We restrict to South America.\n",
        "ax = world[world.continent == 'Europe'].plot(\n",
        "    color='white', edgecolor='black')\n",
        "\n",
        "# We can now plot our ``GeoDataFrame``.\n",
        "gdf.plot(ax=ax, color='red')\n",
        "plt.show()"
      ],
      "execution_count": 25,
      "outputs": [
        {
          "output_type": "display_data",
          "data": {
            "image/png": "[encoded data removed]",
            "text/plain": [
              "<Figure size 1440x1440 with 1 Axes>"
            ]
          },
          "metadata": {
            "tags": [],
            "needs_background": "light"
          }
        }
      ]
    }
  ]
}